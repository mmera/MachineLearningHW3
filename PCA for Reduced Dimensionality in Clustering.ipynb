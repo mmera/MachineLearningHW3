{
 "cells": [
  {
   "cell_type": "code",
   "execution_count": 1,
   "metadata": {
    "collapsed": false
   },
   "outputs": [
    {
     "name": "stdout",
     "output_type": "stream",
     "text": [
      "/Users/Marco/Documents/CSC 478/data/segmentation_data\n"
     ]
    }
   ],
   "source": [
    "cd /Users/Marco/Documents/CSC 478/data/segmentation_data"
   ]
  },
  {
   "cell_type": "code",
   "execution_count": 2,
   "metadata": {
    "collapsed": true
   },
   "outputs": [],
   "source": [
    "import numpy as np"
   ]
  },
  {
   "cell_type": "code",
   "execution_count": 10,
   "metadata": {
    "collapsed": false
   },
   "outputs": [],
   "source": [
    "np.set_printoptions(precision=3,linewidth=75)"
   ]
  },
  {
   "cell_type": "markdown",
   "metadata": {},
   "source": [
    "### 1A. Load and Process"
   ]
  },
  {
   "cell_type": "code",
   "execution_count": 3,
   "metadata": {
    "collapsed": true
   },
   "outputs": [],
   "source": [
    "matrix = np.loadtxt(\"segmentation_data.txt\",delimiter =',')"
   ]
  },
  {
   "cell_type": "code",
   "execution_count": 16,
   "metadata": {
    "collapsed": false
   },
   "outputs": [],
   "source": [
    "labels= np.loadtxt(\"segmentation_classes.txtfrom sklearn import preprocessing\",dtype=int ,usecols=(1,))"
   ]
  },
  {
   "cell_type": "code",
   "execution_count": 22,
   "metadata": {
    "collapsed": true
   },
   "outputs": [],
   "source": [
    "from sklearn import preprocessing"
   ]
  },
  {
   "cell_type": "code",
   "execution_count": 23,
   "metadata": {
    "collapsed": true
   },
   "outputs": [],
   "source": [
    "min_max_scaler = preprocessing.MinMaxScaler().fit(matrix)\n",
    "matrix_norm = min_max_scaler.transform(matrix)"
   ]
  },
  {
   "cell_type": "markdown",
   "metadata": {},
   "source": [
    "### 1B. kMeans Clustering"
   ]
  },
  {
   "cell_type": "code",
   "execution_count": 24,
   "metadata": {
    "collapsed": true
   },
   "outputs": [],
   "source": [
    "from sklearn.cluster import KMeans "
   ]
  },
  {
   "cell_type": "code",
   "execution_count": 25,
   "metadata": {
    "collapsed": true
   },
   "outputs": [],
   "source": [
    "kmeans = KMeans(n_clusters=7)"
   ]
  },
  {
   "cell_type": "code",
   "execution_count": 26,
   "metadata": {
    "collapsed": false
   },
   "outputs": [
    {
     "data": {
      "text/plain": [
       "KMeans(copy_x=True, init='k-means++', max_iter=300, n_clusters=7, n_init=10,\n",
       "    n_jobs=1, precompute_distances='auto', random_state=None, tol=0.0001,\n",
       "    verbose=0)"
      ]
     },
     "execution_count": 26,
     "metadata": {},
     "output_type": "execute_result"
    }
   ],
   "source": [
    "kmeans.fit(matrix_norm)"
   ]
  },
  {
   "cell_type": "code",
   "execution_count": 27,
   "metadata": {
    "collapsed": true
   },
   "outputs": [],
   "source": [
    "clusters=kmeans.predict(matrix_norm)"
   ]
  },
  {
   "cell_type": "code",
   "execution_count": 34,
   "metadata": {
    "collapsed": true
   },
   "outputs": [],
   "source": [
    "from sklearn.metrics import completeness_score, homogeneity_score"
   ]
  },
  {
   "cell_type": "code",
   "execution_count": 36,
   "metadata": {
    "collapsed": false
   },
   "outputs": [
    {
     "name": "stdout",
     "output_type": "stream",
     "text": [
      "Completeness score: 0.611674\n",
      "Homogeneity score: 0.609966\n"
     ]
    }
   ],
   "source": [
    "print \"Completeness score: %f\" %completeness_score(labels,clusters)\n",
    "print \"Homogeneity score: %f\" % homogeneity_score(labels,clusters)"
   ]
  },
  {
   "cell_type": "code",
   "execution_count": 37,
   "metadata": {
    "collapsed": true
   },
   "outputs": [],
   "source": [
    "centroids = kmeans.cluster_centers_"
   ]
  },
  {
   "cell_type": "code",
   "execution_count": 74,
   "metadata": {
    "collapsed": true
   },
   "outputs": [],
   "source": [
    "classes = np.genfromtxt(\"segmentation_names.txt\",dtype=\"S15\")"
   ]
  },
  {
   "cell_type": "code",
   "execution_count": 75,
   "metadata": {
    "collapsed": false
   },
   "outputs": [
    {
     "name": "stdout",
     "output_type": "stream",
     "text": [
      "\t\tCluster0 Cluster1 Cluster2 Cluster3 Cluster4 Cluster5 Cluster6\n",
      "REGION-CENTROID\t0.2542   0.7483   0.5140   0.5351   0.7691   0.3025   0.2512\n",
      "REGION-CENTROID\t0.4594   0.5320   0.8089   0.1502   0.4259   0.5309   0.3934\n",
      "REGION-PIXEL-CO\t0.0000   0.0000   0.0000   0.0000   0.0000   0.0000   0.0000\n",
      "SHORT-LINE-DENS\t0.0264   0.0392   0.0774   0.0278   0.0140   0.0523   0.0754\n",
      "SHORT-LINE-DENS\t0.0138   0.0377   0.0051   0.0017   0.0227   0.0466   0.0193\n",
      "VEDGE-MEAN\t0.0368   0.1135   0.0545   0.0302   0.0397   0.1008   0.0780\n",
      "  VEDGE-SD\t0.0020   0.0189   0.0014   0.0005   0.0030   0.0094   0.0044\n",
      "HEDGE-MEAN\t0.0266   0.1073   0.0463   0.0268   0.0231   0.0840   0.0623\n",
      "  HEDGE-SD\t0.0017   0.0176   0.0014   0.0006   0.0021   0.0110   0.0053\n",
      "INTENSITY-MEAN\t0.0257   0.2986   0.1088   0.8232   0.0404   0.4006   0.1473\n",
      "RAWRED-MEAN\t0.0175   0.2775   0.0914   0.7797   0.0344   0.3703   0.1374\n",
      "RAWBLUE-MEAN\t0.0420   0.3501   0.0924   0.8942   0.0574   0.4725   0.1842\n",
      "RAWGREEN-MEAN\t0.0162   0.2638   0.1427   0.7888   0.0281   0.3530   0.1175\n",
      "EXRED-MEAN\t0.7693   0.5933   0.6792   0.2707   0.7799   0.4971   0.7184\n",
      "EXBLUE-MEAN\t0.2160   0.4492   0.0790   0.6664   0.2228   0.5709   0.3436\n",
      "EXGREEN-MEAN\t0.5086   0.3115   0.8213   0.2894   0.4869   0.2131   0.3547\n",
      "VALUE-MEAN\t0.0429   0.3502   0.1349   0.8942   0.0584   0.4725   0.1845\n",
      "SATURATION-MEAN\t0.8032   0.3030   0.4145   0.2118   0.5392   0.3023   0.4141\n",
      "  HUE-MEAN\t0.1804   0.1644   0.8923   0.1251   0.2450   0.1639   0.2028\n"
     ]
    }
   ],
   "source": [
    "print \"\\t\\tCluster0 Cluster1 Cluster2 Cluster3 Cluster4 Cluster5 Cluster6\"\n",
    "for i in range(len(classes)):\n",
    "    print \"%10s\\t%.4f   %.4f   %.4f   %.4f   %.4f   %.4f   %.4f\"%(classes[i],centroids[0][i],centroids[1][i],centroids[2][i],centroids[3][i],centroids[4][i],centroids[5][i],centroids[6][i])"
   ]
  },
  {
   "cell_type": "markdown",
   "metadata": {},
   "source": [
    "### 1C. PCA"
   ]
  },
  {
   "cell_type": "code",
   "execution_count": 48,
   "metadata": {
    "collapsed": true
   },
   "outputs": [],
   "source": [
    "from sklearn import decomposition"
   ]
  },
  {
   "cell_type": "code",
   "execution_count": 55,
   "metadata": {
    "collapsed": true
   },
   "outputs": [],
   "source": [
    "pca = decomposition.PCA(n_components=7)\n",
    "lower = pca.fit_transform(matrix_norm)"
   ]
  },
  {
   "cell_type": "code",
   "execution_count": 57,
   "metadata": {
    "collapsed": false
   },
   "outputs": [
    {
     "name": "stdout",
     "output_type": "stream",
     "text": [
      "[ 0.607  0.132  0.101  0.045  0.035  0.02   0.019]\n",
      "0.96005892277\n"
     ]
    }
   ],
   "source": [
    "print pca.explained_variance_ratio_\n",
    "print sum(pca.explained_variance_ratio_)"
   ]
  },
  {
   "cell_type": "markdown",
   "metadata": {},
   "source": [
    "### 1D. kMeans (Part 2)"
   ]
  },
  {
   "cell_type": "code",
   "execution_count": 60,
   "metadata": {
    "collapsed": true
   },
   "outputs": [],
   "source": [
    "kmeans = KMeans(n_clusters=7)\n",
    "kmeans.fit(lower)\n",
    "clusters=kmeans.predict(lower)"
   ]
  },
  {
   "cell_type": "code",
   "execution_count": 61,
   "metadata": {
    "collapsed": false
   },
   "outputs": [
    {
     "name": "stdout",
     "output_type": "stream",
     "text": [
      "Completeness score: 0.610796\n",
      "Homogeneity score: 0.609136\n"
     ]
    }
   ],
   "source": [
    "print \"Completeness score: %f\" %completeness_score(labels,clusters)\n",
    "print \"Homogeneity score: %f\" % homogeneity_score(labels,clusters)"
   ]
  },
  {
   "cell_type": "markdown",
   "metadata": {},
   "source": [
    "### 1E. Results"
   ]
  },
  {
   "cell_type": "markdown",
   "metadata": {
    "collapsed": true
   },
   "source": [
    "They both ended scoring around the same for both completeness and homogeneity. From my understanding of PCA this shouldn't be surprising since PCA reduces the dimensions into components of most to least explained variance in order to bring out strong patterns in a dataset. Thus when data is reduced into dimensionality in this way, when it comes time to clustering the data it will be clustered in the same number of clusters as the number of components we set it to in the decomposition. "
   ]
  }
 ],
 "metadata": {
  "kernelspec": {
   "display_name": "Python 2",
   "language": "python",
   "name": "python2"
  },
  "language_info": {
   "codemirror_mode": {
    "name": "ipython",
    "version": 2
   },
   "file_extension": ".py",
   "mimetype": "text/x-python",
   "name": "python",
   "nbconvert_exporter": "python",
   "pygments_lexer": "ipython2",
   "version": "2.7.11"
  }
 },
 "nbformat": 4,
 "nbformat_minor": 0
}
