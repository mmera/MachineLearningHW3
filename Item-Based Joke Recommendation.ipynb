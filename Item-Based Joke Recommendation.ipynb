{
 "cells": [
  {
   "cell_type": "code",
   "execution_count": 1,
   "metadata": {
    "collapsed": false
   },
   "outputs": [
    {
     "name": "stdout",
     "output_type": "stream",
     "text": [
      "/Users/Marco/Documents/CSC 478/data/jokes\n"
     ]
    }
   ],
   "source": [
    "cd /Users/Marco/Documents/CSC 478/data/jokes"
   ]
  },
  {
   "cell_type": "code",
   "execution_count": 3,
   "metadata": {
    "collapsed": false
   },
   "outputs": [],
   "source": [
    "import numpy as np"
   ]
  },
  {
   "cell_type": "markdown",
   "metadata": {},
   "source": [
    "### 3A. Load Data"
   ]
  },
  {
   "cell_type": "code",
   "execution_count": 8,
   "metadata": {
    "collapsed": true
   },
   "outputs": [],
   "source": [
    "ratings = np.loadtxt(\"modified_jester_data.csv\",delimiter=\",\",dtype=\"float\")"
   ]
  },
  {
   "cell_type": "code",
   "execution_count": 18,
   "metadata": {
    "collapsed": false
   },
   "outputs": [],
   "source": [
    "jokes = np.genfromtxt(\"jokes.csv\", delimiter=',', dtype=str)\n",
    "jokes = jokes[:,1]"
   ]
  },
  {
   "cell_type": "code",
   "execution_count": 52,
   "metadata": {
    "collapsed": false
   },
   "outputs": [],
   "source": [
    "import scipy.spatial"
   ]
  },
  {
   "cell_type": "code",
   "execution_count": 55,
   "metadata": {
    "collapsed": false
   },
   "outputs": [],
   "source": [
    "jokeRatings = ratings.T\n",
    "qJokeRating = jokeRatings[3]\n",
    "distances = [scipy.spatial.distance.cosine(qJokeRating,joke) for joke in jokeRatings]\n",
    "indexes=[]\n",
    "for i in range(5):\n",
    "    temp=distances.index(min(distances))\n",
    "    indexes.append(temp)\n",
    "    distances[temp]=1"
   ]
  },
  {
   "cell_type": "code",
   "execution_count": 63,
   "metadata": {
    "collapsed": true
   },
   "outputs": [],
   "source": [
    "indexes = [distances.index(min(distances))]"
   ]
  },
  {
   "cell_type": "code",
   "execution_count": 65,
   "metadata": {
    "collapsed": false
   },
   "outputs": [],
   "source": [
    "indexes=[]\n",
    "for i in range(5):\n",
    "    temp=distances.index(min(distances))\n",
    "    indexes.append(temp)\n",
    "    distances[temp]=1"
   ]
  },
  {
   "cell_type": "code",
   "execution_count": 66,
   "metadata": {
    "collapsed": false
   },
   "outputs": [
    {
     "data": {
      "text/plain": [
       "[3, 23, 8, 29, 2]"
      ]
     },
     "execution_count": 66,
     "metadata": {},
     "output_type": "execute_result"
    }
   ],
   "source": [
    "indexes"
   ]
  },
  {
   "cell_type": "code",
   "execution_count": 62,
   "metadata": {
    "collapsed": false,
    "scrolled": true
   },
   "outputs": [
    {
     "data": {
      "text/plain": [
       "[0.2357931895278923,\n",
       " 0.27388807602763154,\n",
       " 0.18791020574714112,\n",
       " -2.2204460492503131e-16,\n",
       " 0.33633738748521369,\n",
       " 0.20671750069801642,\n",
       " 0.35893937390062647,\n",
       " 0.36227899899736371,\n",
       " 0.18487299811311086,\n",
       " 0.26911729353258973,\n",
       " 0.25949300941560971,\n",
       " 0.2468663495541964,\n",
       " 0.36280133425147154,\n",
       " 0.24588525420261831,\n",
       " 0.38433557999369061,\n",
       " 0.39318270813246603,\n",
       " 0.32949469860721714,\n",
       " 0.36868755931098163,\n",
       " 0.34299039005683407,\n",
       " 0.34729556037137599,\n",
       " 0.30480399745031173,\n",
       " 0.25247649192216393,\n",
       " 0.26518480790804566,\n",
       " 0.17756505984235926,\n",
       " 0.24697574853110493,\n",
       " 0.28872938726733777,\n",
       " 0.32073286166722426,\n",
       " 0.31338041162261143,\n",
       " 0.31279736978214412,\n",
       " 0.1872284118891151,\n",
       " 0.3158597976828833,\n",
       " 0.32308230416098527,\n",
       " 0.19169448081105933,\n",
       " 0.24133951467304182,\n",
       " 0.32582469240349088,\n",
       " 0.31896922175427611,\n",
       " 0.22097007807640978,\n",
       " 0.28068198696645907,\n",
       " 0.26336319293353105,\n",
       " 0.27219727241121183,\n",
       " 0.23122665971192413,\n",
       " 0.29689622279041672,\n",
       " 0.21245668599307255,\n",
       " 0.25471953137241976,\n",
       " 0.26025118131610459,\n",
       " 0.3026487394395837,\n",
       " 0.27753689136511772,\n",
       " 0.32374238464642435,\n",
       " 0.32774118009492836,\n",
       " 0.32724984499484511,\n",
       " 0.21404535573774019,\n",
       " 0.23251777549008701,\n",
       " 0.31475522092094366,\n",
       " 0.32302047897187292,\n",
       " 0.24896691429891971,\n",
       " 0.30456733077441711,\n",
       " 0.21950167904852658,\n",
       " 0.2354405217007105,\n",
       " 0.21234892555042328,\n",
       " 0.26692438367023519,\n",
       " 0.29985400426371145,\n",
       " 0.33038377177683931,\n",
       " 0.28407351276804516,\n",
       " 0.22965679940712547,\n",
       " 0.3222548244215826,\n",
       " 0.32554554723289642,\n",
       " 0.21032498726987725,\n",
       " 0.32013325559670303,\n",
       " 0.31585579262276275,\n",
       " 0.22605945078620682,\n",
       " 0.48305772348428277,\n",
       " 0.44357411834999239,\n",
       " 0.42324489475996296,\n",
       " 0.46167517524976476,\n",
       " 0.45700429559787625,\n",
       " 0.42000035102004063,\n",
       " 0.42913007119262103,\n",
       " 0.42650675401676108,\n",
       " 0.43162708858860588,\n",
       " 0.4158529272495961,\n",
       " 0.41756042814297667,\n",
       " 0.40976785834459961,\n",
       " 0.38702000456657482,\n",
       " 0.4002637100139681,\n",
       " 0.40173656344750241,\n",
       " 0.41079389331936866,\n",
       " 0.39930139504393403,\n",
       " 0.41639691530118861,\n",
       " 0.38912041809850395,\n",
       " 0.39825005235805355,\n",
       " 0.38353402707177886,\n",
       " 0.36407563093354767,\n",
       " 0.38340924558152678,\n",
       " 0.3894009024809697,\n",
       " 0.38889219967979871,\n",
       " 0.38570363034629362,\n",
       " 0.38619330020512288,\n",
       " 0.37665763041530598,\n",
       " 0.38277903409778158,\n",
       " 0.3282719620039265]"
      ]
     },
     "execution_count": 62,
     "metadata": {},
     "output_type": "execute_result"
    }
   ],
   "source": [
    "distances"
   ]
  },
  {
   "cell_type": "markdown",
   "metadata": {},
   "source": [
    "### 3B. MAE"
   ]
  },
  {
   "cell_type": "code",
   "execution_count": 31,
   "metadata": {
    "collapsed": false
   },
   "outputs": [],
   "source": [
    "import itemBasedRec as ir"
   ]
  },
  {
   "cell_type": "code",
   "execution_count": 70,
   "metadata": {
    "collapsed": false
   },
   "outputs": [
    {
     "data": {
      "text/plain": [
       "<module 'itemBasedRec' from 'itemBasedRec.py'>"
      ]
     },
     "execution_count": 70,
     "metadata": {},
     "output_type": "execute_result"
    }
   ],
   "source": [
    "reload(itemBasedRec)"
   ]
  },
  {
   "cell_type": "code",
   "execution_count": 42,
   "metadata": {
    "collapsed": false
   },
   "outputs": [
    {
     "name": "stdout",
     "output_type": "stream",
     "text": [
      "Mean Absoloute Error for  <function svdEst at 0x104ba0b18>  :  50.3818672022\n"
     ]
    }
   ],
   "source": [
    "ir.test(ratings, 0.2, ir.svdEst)"
   ]
  },
  {
   "cell_type": "markdown",
   "metadata": {},
   "source": [
    "### 3C. Printing Most Similar Jokes"
   ]
  },
  {
   "cell_type": "code",
   "execution_count": 71,
   "metadata": {
    "collapsed": false
   },
   "outputs": [
    {
     "name": "stdout",
     "output_type": "stream",
     "text": [
      "Selected joke:\n",
      "\n",
      "Q. What's the difference between a man and a toilet? A. A toilet doesn't follow you around after you use it.\n",
      "\n",
      "Top 5 recommended jokes are:\n",
      "\n",
      "What do you get when you run over a parakeet with a lawnmower? Shredded tweet.\n",
      "\n",
      "A country guy goes into a city bar that has a dress code and the maitred' demands he wear a tie. Discouraged the guy goes to his car to sulk when inspiration strikes: He's got jumper cables in the trunk! So he wraps them around his neck sort of like a string tie (a bulky string tie to be sure) and returns to the bar. The maitre d' is reluctant but says to the guy \"Okay you're a pretty resourceful fellow you can come in... but just don't start anything\"!\n",
      "\n",
      "Q: What's the difference between a Lawyer and a Plumber? A: A Plumber works to unclog the system.\n",
      "\n",
      "Q. What's 200 feet long and has 4 teeth? A. The front row at a Willie Nelson Concert.\n",
      "\n",
      "What do you call an American in the finals of the world cup?\"Hey Beer Man!\"\n",
      "\n"
     ]
    }
   ],
   "source": [
    "ir.print_most_similar_jokes(ratings, jokes, 3, 5, ir.cosine_similarity)"
   ]
  }
 ],
 "metadata": {
  "kernelspec": {
   "display_name": "Python 2",
   "language": "python",
   "name": "python2"
  },
  "language_info": {
   "codemirror_mode": {
    "name": "ipython",
    "version": 2
   },
   "file_extension": ".py",
   "mimetype": "text/x-python",
   "name": "python",
   "nbconvert_exporter": "python",
   "pygments_lexer": "ipython2",
   "version": "2.7.11"
  }
 },
 "nbformat": 4,
 "nbformat_minor": 0
}
